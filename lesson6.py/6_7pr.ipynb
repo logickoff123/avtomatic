{
 "cells": [
  {
   "cell_type": "code",
   "execution_count": 2,
   "metadata": {},
   "outputs": [
    {
     "data": {
      "text/plain": [
       "8.5"
      ]
     },
     "execution_count": 2,
     "metadata": {},
     "output_type": "execute_result"
    }
   ],
   "source": [
    "class MosqitousCloud():\n",
    "    danage_per_mosk: float = 1.7\n",
    "    moskitous_in_cloud: int = 5\n",
    "    \n",
    "    damage = danage_per_mosk * moskitous_in_cloud\n",
    "    \n",
    "    def __init__(\n",
    "        self,\n",
    "        danage_per_mosk: float = 1.7,\n",
    "        moskitous_in_cloud: int = 5\n",
    "    ):\n",
    "    \n",
    "        if danage_per_mosk is not None and moskitous_in_cloud is not None:\n",
    "            self.danage_per_mosk = danage_per_mosk\n",
    "            self.moskitous_in_cloud = moskitous_in_cloud\n",
    "            self.damage = danage_per_mosk * moskitous_in_cloud\n",
    "        \n",
    "        else:\n",
    "            raise ValueError ('Please go nahuy')\n",
    "        \n",
    "    def __init__(self, other):\n",
    "        new_moskito_cloud = MosqitousCloud(\n",
    "            danage_per_mosk = (self.danage_per_mosk + other_danage_per_mosk)  \n",
    "            moskitous_in_cloud = self.moskitous_in_cloud +\n",
    "        )\n",
    "        \n",
    "        \n",
    "moscoil = MosqitousCloud()\n",
    "moscoil.damage    \n",
    "    "
   ]
  },
  {
   "cell_type": "code",
   "execution_count": null,
   "metadata": {},
   "outputs": [],
   "source": [
    "#создать класс Марица в которой у вас будет храниься сама матрица и куча метотодов на сложение вычитание, деления, сколярное произведение \n"
   ]
  },
  {
   "cell_type": "code",
   "execution_count": null,
   "metadata": {},
   "outputs": [],
   "source": [
    "\n",
    "class Matrix:\n",
    "    def __init__(self, matrix):\n",
    "        self.matrix = matrix\n",
    "\n",
    "    def add(self, other):\n",
    "        if len(self.matrix) != len(other.matrix) or len(self.matrix[0]) != len(other.matrix[0]):\n",
    "            raise ValueError(\"Размеры матриц должны быть одинаковыми\")\n",
    "        result = []\n"
   ]
  },
  {
   "cell_type": "code",
   "execution_count": null,
   "metadata": {},
   "outputs": [],
   "source": []
  },
  {
   "cell_type": "code",
   "execution_count": 5,
   "metadata": {},
   "outputs": [],
   "source": [
    "class Matrix:\n",
    "    def __init__ (self, matrix):\n",
    "        self.matrix = matrix\n",
    "    \n",
    "def add (self, other ):\n",
    "    if len (self.matrix) != len (other.matrix) or len(self.matrix[0]) != len(other.matrix[0]):\n",
    "        raise ValueError('Размер матрицы должен быть одинаковым')\n",
    "    result = []\n",
    "    "
   ]
  },
  {
   "cell_type": "code",
   "execution_count": 6,
   "metadata": {},
   "outputs": [
    {
     "name": "stdout",
     "output_type": "stream",
     "text": [
      "Requirement already satisfied: numpy in c:\\users\\ustin\\appdata\\local\\programs\\python\\python310\\lib\\site-packages (1.23.5)Note: you may need to restart the kernel to use updated packages.\n"
     ]
    },
    {
     "name": "stderr",
     "output_type": "stream",
     "text": [
      "\n",
      "[notice] A new release of pip is available: 23.1.2 -> 23.2.1\n",
      "[notice] To update, run: python.exe -m pip install --upgrade pip\n"
     ]
    },
    {
     "name": "stdout",
     "output_type": "stream",
     "text": [
      "\n"
     ]
    }
   ],
   "source": [
    "%pip install numpy"
   ]
  },
  {
   "cell_type": "code",
   "execution_count": null,
   "metadata": {},
   "outputs": [],
   "source": []
  },
  {
   "cell_type": "code",
   "execution_count": null,
   "metadata": {},
   "outputs": [],
   "source": []
  },
  {
   "cell_type": "code",
   "execution_count": null,
   "metadata": {},
   "outputs": [],
   "source": []
  }
 ],
 "metadata": {
  "kernelspec": {
   "display_name": "Python 3",
   "language": "python",
   "name": "python3"
  },
  "language_info": {
   "name": "python",
   "version": "3.10.10"
  },
  "orig_nbformat": 4
 },
 "nbformat": 4,
 "nbformat_minor": 2
}
