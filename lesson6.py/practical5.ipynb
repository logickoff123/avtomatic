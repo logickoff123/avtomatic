{
 "cells": [
  {
   "cell_type": "code",
   "execution_count": 11,
   "metadata": {},
   "outputs": [],
   "source": [
    "class Heroes:\n",
    "    \n",
    "    def hit(self):\n",
    "        iq = 100\n",
    "        nachalka_skils = int(input())\n",
    "        persistence = (nachalka_skils/5 * 5)+iq\n",
    "        strength = (nachalka_skils/5 * 6)+iq\n",
    "        cruelty = (nachalka_skils/10 )+iq\n",
    "        hit_ler = (persistence + strength + cruelty) \n",
    "        print('You choose:', hit_ler)"
   ]
  },
  {
   "cell_type": "code",
   "execution_count": 13,
   "metadata": {},
   "outputs": [],
   "source": [
    "class LigaSpravedlivosti(Heroes):\n",
    "    \n",
    "    def skills(self):\n",
    "        print('skills plus')\n",
    "        \n",
    "    def hook(self):\n",
    "        print('I am batman')"
   ]
  },
  {
   "cell_type": "code",
   "execution_count": 19,
   "metadata": {},
   "outputs": [],
   "source": [
    "class RazvilkaGame(Heroes):\n",
    "\n",
    "    def look(self):\n",
    "        print('Hello Joker')\n",
    "        \n",
    "    def shadowraze(self):\n",
    "        ochki_game= int(input())\n",
    "        if 0 > ochki_game + 1 >= 4 :\n",
    "            print('four of four')\n",
    "        elif ochki_game == 1:\n",
    "            print('slabo')\n",
    "        elif ochki_game == 2:\n",
    "            print('slabo so much')\n",
    "        elif ochki_game == 3:\n",
    "            print('a ty horosh ')\n",
    "        elif ochki_game == 4:\n",
    "            print('game over')\n",
    "            "
   ]
  },
  {
   "cell_type": "code",
   "execution_count": 20,
   "metadata": {},
   "outputs": [],
   "source": [
    "razvilka = RazvilkaGame()\n",
    "batman = LigaSpravedlivosti()"
   ]
  },
  {
   "cell_type": "code",
   "execution_count": 21,
   "metadata": {},
   "outputs": [
    {
     "name": "stdout",
     "output_type": "stream",
     "text": [
      "Hello Joker\n"
     ]
    }
   ],
   "source": [
    "razvilka.look()"
   ]
  },
  {
   "cell_type": "code",
   "execution_count": 22,
   "metadata": {},
   "outputs": [],
   "source": [
    "razvilka.shadowraze()"
   ]
  },
  {
   "cell_type": "code",
   "execution_count": 23,
   "metadata": {},
   "outputs": [
    {
     "name": "stdout",
     "output_type": "stream",
     "text": [
      "You choose: 300.0\n"
     ]
    }
   ],
   "source": [
    "batman.hit()"
   ]
  },
  {
   "cell_type": "code",
   "execution_count": null,
   "metadata": {},
   "outputs": [],
   "source": []
  },
  {
   "cell_type": "code",
   "execution_count": null,
   "metadata": {},
   "outputs": [],
   "source": []
  },
  {
   "cell_type": "code",
   "execution_count": null,
   "metadata": {},
   "outputs": [],
   "source": []
  },
  {
   "cell_type": "code",
   "execution_count": null,
   "metadata": {},
   "outputs": [],
   "source": []
  },
  {
   "cell_type": "code",
   "execution_count": null,
   "metadata": {},
   "outputs": [],
   "source": []
  }
 ],
 "metadata": {
  "kernelspec": {
   "display_name": "Python 3",
   "language": "python",
   "name": "python3"
  },
  "language_info": {
   "codemirror_mode": {
    "name": "ipython",
    "version": 3
   },
   "file_extension": ".py",
   "mimetype": "text/x-python",
   "name": "python",
   "nbconvert_exporter": "python",
   "pygments_lexer": "ipython3",
   "version": "3.10.10"
  },
  "orig_nbformat": 4
 },
 "nbformat": 4,
 "nbformat_minor": 2
}
