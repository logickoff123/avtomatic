{
 "cells": [
  {
   "cell_type": "code",
   "execution_count": 1,
   "metadata": {},
   "outputs": [],
   "source": [
    "class MixinSpeak:\n",
    "    def fly(self):\n",
    "        print(\"I am batman\")\n",
    "        \n",
    "class MixinHit:\n",
    "    def fly(self):\n",
    "        print(\"I am hitting\")\n",
    "\n",
    "class Mixinbultercome:\n",
    "    def fly(self):\n",
    "        print(\"Alfred where is my suit\")\n",
    "\n",
    "class MixinStand:\n",
    "    def walk(self):\n",
    "        print(\"I am stand\")\n",
    "\n",
    "class Mixinlook:\n",
    "    def swim(self):\n",
    "        print (\"I look at you\")\n",
    "\n",
    "class MixinHead:\n",
    "    def make_noise(self):\n",
    "        print (\"My head is spinning\")\n",
    "        \n",
    "class Mixinspeakzagadochnic:\n",
    "    def speak(self):\n",
    "        print (\"I have riddle for you\")\n",
    "        \n",
    "class Mixinspeakzagadochnic2:\n",
    "    def speak(self):\n",
    "        print (\"HAVE A NICA DAY BATMAN\")"
   ]
  },
  {
   "cell_type": "code",
   "execution_count": 2,
   "metadata": {},
   "outputs": [],
   "source": [
    "class Characters:\n",
    "    def __init__(\n",
    "        self,\n",
    "        width_cm: float,\n",
    "        height_cm: float\n",
    "    ):\n",
    "        self.width_cm: float = width_cm\n",
    "        self.height_cm: float = height_cm\n",
    "        \n",
    "class Playable(MixinSpeak, MixinHit, Mixinbultercome):\n",
    "    pass\n",
    "        \n",
    "class Toy(MixinStand, Mixinlook, MixinHead):\n",
    "    pass"
   ]
  },
  {
   "cell_type": "code",
   "execution_count": 3,
   "metadata": {},
   "outputs": [],
   "source": [
    "class Camerman (Characters,Playable):\n",
    "    width_cm: float = 60\n",
    "    length_cm: float = 200\n",
    "    eyes: str = 'one'\n",
    "    \n",
    "    def __init__(\n",
    "        self,\n",
    "        width_cm: float = 60,\n",
    "        length_cm: float = 200,\n",
    "        eyes: str = 'one'\n",
    "    ):\n",
    "        self.width_cm: float = width_cm\n",
    "        self.length: float = length_cm\n",
    "        self.eyes: float = eyes\n",
    "        print('Camerman watching')"
   ]
  },
  {
   "cell_type": "code",
   "execution_count": 4,
   "metadata": {},
   "outputs": [],
   "source": [
    "class ToyCamera(Characters, Toy):\n",
    "    eyes: str = 'camera'\n",
    "    size_cm3: float = 12\n",
    "    width_cm: float = 8\n",
    "    \n",
    "    def __init__( \n",
    "        self,\n",
    "        eyes: str = 'camera',\n",
    "        size_cm3: float = 12,\n",
    "        width_cm: float = 8\n",
    "    ):\n",
    "        self.eyes: str = 'camera',\n",
    "        self.size_cm3: float = size_cm3\n",
    "        self.width_cm: float = width_cm\n",
    "        print('ToyCamer')  "
   ]
  },
  {
   "cell_type": "code",
   "execution_count": 5,
   "metadata": {},
   "outputs": [],
   "source": [
    "class Batman(Characters, Playable):\n",
    "    width_cm: float = 90\n",
    "    length_cm: float = 1.91\n",
    "    iq: float = 195\n",
    "    \n",
    "    def __init__(\n",
    "        self,\n",
    "        width_cm: float = 90,\n",
    "        length_cm: float = 1.91,\n",
    "        iq: float = 195\n",
    "    ):\n",
    "        self.width_cm: float = width_cm\n",
    "        self.length: float = length_cm\n",
    "        self.iq: float = iq\n",
    "        print('Batman come')"
   ]
  },
  {
   "cell_type": "code",
   "execution_count": 6,
   "metadata": {},
   "outputs": [],
   "source": [
    "class ToyBatman(Characters, Toy):\n",
    "    eyes: str = 'black'\n",
    "    size_cm3: float = 12\n",
    "    width_cm: float = 8\n",
    "    \n",
    "    def __init__( \n",
    "        self,\n",
    "        eyes: str = 'black',\n",
    "        size_cm3: float = 12,\n",
    "        width_cm: float = 8\n",
    "    ):\n",
    "        self.eyes: str = 'black',\n",
    "        self.size_cm3: float = size_cm3\n",
    "        self.width_cm: float = width_cm\n",
    "        print('Toy')\n",
    "          "
   ]
  },
  {
   "cell_type": "code",
   "execution_count": null,
   "metadata": {},
   "outputs": [],
   "source": [
    "class Zagadochnic(Characters, Playable,Mixinspeakzagadochnic,Mixinspeakzagadochnic2): \n",
    "    width_cm: float = 70\n",
    "    length_cm: float = 1.85\n",
    "    iq: float = 200\n",
    "    \n",
    "    def __init__(\n",
    "        self,\n",
    "        width_cm: float = 70,\n",
    "        length_cm: float = 1.85,\n",
    "        iq: float = 20\n",
    "    ):\n",
    "        self.width_cm: float = width_cm\n",
    "        self.length: float = length_cm\n",
    "        self.iq: float = iq\n",
    "        print('HHHHHHHH')\n",
    "    \n"
   ]
  },
  {
   "cell_type": "code",
   "execution_count": null,
   "metadata": {},
   "outputs": [],
   "source": [
    "class  ToyZagadochnic (Characters, Toy):\n",
    "    eyes: str = 'zagadochnic'\n",
    "    size_cm3: float = 12\n",
    "    width_cm: float = 8\n",
    "    \n",
    "    def __init__( \n",
    "        self,\n",
    "        eyes: str = 'zagadochnic',\n",
    "        size_cm3: float = 12,\n",
    "        width_cm: float = 8\n",
    "    ):\n",
    "        self.eyes: str = 'zagadochnic',\n",
    "        self.size_cm3: float = size_cm3\n",
    "        self.width_cm: float = width_cm\n",
    "        print('AYCH')      \n"
   ]
  },
  {
   "cell_type": "code",
   "execution_count": null,
   "metadata": {},
   "outputs": [],
   "source": [
    "def stand(self):\n",
    "        print('приступники будут наказаны)')\n",
    "        "
   ]
  },
  {
   "cell_type": "code",
   "execution_count": null,
   "metadata": {},
   "outputs": [],
   "source": [
    "\n",
    "def head_turn(self):\n",
    "        print('Поломался')\n"
   ]
  },
  {
   "cell_type": "code",
   "execution_count": null,
   "metadata": {},
   "outputs": [],
   "source": []
  },
  {
   "cell_type": "code",
   "execution_count": null,
   "metadata": {},
   "outputs": [],
   "source": []
  },
  {
   "cell_type": "code",
   "execution_count": null,
   "metadata": {},
   "outputs": [],
   "source": []
  }
 ],
 "metadata": {
  "kernelspec": {
   "display_name": "Python 3",
   "language": "python",
   "name": "python3"
  },
  "language_info": {
   "codemirror_mode": {
    "name": "ipython",
    "version": 3
   },
   "file_extension": ".py",
   "mimetype": "text/x-python",
   "name": "python",
   "nbconvert_exporter": "python",
   "pygments_lexer": "ipython3",
   "version": "3.10.10"
  },
  "orig_nbformat": 4
 },
 "nbformat": 4,
 "nbformat_minor": 2
}
